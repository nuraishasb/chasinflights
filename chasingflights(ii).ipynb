{
 "cells": [
  {
   "cell_type": "markdown",
   "id": "c6405a6a",
   "metadata": {},
   "source": [
    "# Introduction"
   ]
  },
  {
   "cell_type": "code",
   "execution_count": 1,
   "id": "dfc5090c",
   "metadata": {},
   "outputs": [],
   "source": [
    "# setting directory\n",
    "import os\n",
    "os.chdir(\"/Users/nuraisha/Desktop/chasingflights\")"
   ]
  },
  {
   "cell_type": "code",
   "execution_count": 2,
   "id": "f41ce5ac",
   "metadata": {},
   "outputs": [],
   "source": [
    "import pandas as pd\n",
    "Y2007 = pd.read_csv(\"2007.csv\", encoding='latin-1')"
   ]
  },
  {
   "cell_type": "code",
   "execution_count": null,
   "id": "d882ccef",
   "metadata": {},
   "outputs": [],
   "source": [
    "# importing data; lesser data due to limited ram\n",
    "import pandas as pd\n",
    "Y1995 = pd.read_csv(\"1995.csv\", encoding='latin-1')\n",
    "Y1996 = pd.read_csv(\"1996.csv\", encoding='latin-1')\n",
    "\n",
    "Y2000 = pd.read_csv(\"2000.csv\", encoding='latin-1')\n",
    "Y2001 = pd.read_csv(\"2001.csv\", encoding='latin-1')\n",
    "Y2002 = pd.read_csv(\"2002.csv\", encoding='latin-1')\n",
    "\n",
    "Y2006 = pd.read_csv(\"2006.csv\", encoding='latin-1')\n",
    "Y2007 = pd.read_csv(\"2007.csv\", encoding='latin-1')"
   ]
  },
  {
   "cell_type": "code",
   "execution_count": null,
   "id": "e7c1bfba",
   "metadata": {},
   "outputs": [],
   "source": [
    "# collating data into one\n",
    "database = pd.concat([Y1995, Y1996, Y2000, Y2001, Y2002, Y2006, Y2007])"
   ]
  },
  {
   "cell_type": "code",
   "execution_count": null,
   "id": "2c0ca0f1",
   "metadata": {},
   "outputs": [],
   "source": [
    "# exploratory data analysis (EDA)\n",
    "database.info()\n",
    "database.head(n=5)"
   ]
  },
  {
   "cell_type": "code",
   "execution_count": null,
   "id": "98ca775f",
   "metadata": {},
   "outputs": [],
   "source": [
    "# removing columns\n",
    "# not using 24:28 due to NaN values in earlier years\n",
    "database.drop(database.columns[[11,12,13,18,19,20,\n",
    "                                22,24,25,26,27,28]], \n",
    "              axis=1, inplace=True)\n",
    "\n",
    "# removing NA values\n",
    "database = database.dropna()\n",
    "\n",
    "#checking for NA values\n",
    "database.isnull().values.any()"
   ]
  },
  {
   "cell_type": "markdown",
   "id": "b5bb4095",
   "metadata": {},
   "source": [
    "# Optimal Schedule"
   ]
  },
  {
   "cell_type": "code",
   "execution_count": null,
   "id": "71c7e9c7",
   "metadata": {},
   "outputs": [],
   "source": [
    "# filtering the data\n",
    "nondel_flights = database[(database['ArrDelay']<= 0) & \n",
    "                          (database['DepDelay']<= 0)]\n",
    "\n",
    "# selecting relevant columns\n",
    "nondel_sched = nondel_flights[['Month', 'DayOfWeek', 'CRSDepTime']]\n",
    "\n",
    "# finding frequency of each sched\n",
    "schedfreq = nondel_sched.value_counts().reset_index(name='Frequency')\n",
    "\n",
    "# finding top 3 values\n",
    "schedfreq.nlargest(3, 'Frequency')"
   ]
  },
  {
   "cell_type": "markdown",
   "id": "aa844db6",
   "metadata": {},
   "source": [
    "# Efficiency of Older Planes"
   ]
  },
  {
   "cell_type": "code",
   "execution_count": null,
   "id": "cff4d1e6",
   "metadata": {},
   "outputs": [],
   "source": [
    "# filtering the data\n",
    "del_flights = database[(database['ArrDelay'] > 15) | \n",
    "                       (database['DepDelay'] > 15)]\n",
    "\n",
    "# finding total delay\n",
    "del_flights['TotalDelay'] = del_flights[['ArrDelay', 'DepDelay']].sum(axis=1)\n",
    "\n",
    "# finding average delay per year\n",
    "avgdel_year = del_flights.groupby('Year')['TotalDelay'].mean().reset_index().rename(columns={'TotalDelay' : 'AvgTotalDelay'})\n",
    "avgdel_year\n",
    "\n",
    "# graph\n",
    "from matplotlib import pyplot as plt\n",
    "avgdel_year.plot(y='AvgTotalDelay', use_index = True, c = 'red', xticks = avgdel_year.index)\n",
    "plt.title('Average Duration of Delay Over Time')\n",
    "plt.show()"
   ]
  },
  {
   "cell_type": "markdown",
   "id": "3ffa8d82",
   "metadata": {},
   "source": [
    "# Flight Destinations"
   ]
  },
  {
   "cell_type": "code",
   "execution_count": null,
   "id": "d7977c2d",
   "metadata": {},
   "outputs": [],
   "source": [
    "# filter data\n",
    "flightpath = database[(database['Cancelled'] == 0) & \n",
    "                      (database['Diverted'] == 0)]\n"
   ]
  },
  {
   "cell_type": "code",
   "execution_count": null,
   "id": "740c5475",
   "metadata": {},
   "outputs": [],
   "source": [
    "# finding frequency of paths\n",
    "freq_flights = flightpath.groupby(['Origin','Dest','Year']).size().reset_index(name='counts')\n",
    "freq_flights['Flight'] = freq_flights['Origin'] +\"-\"+ freq_flights['Dest']\n",
    "freq_flights"
   ]
  },
  {
   "cell_type": "code",
   "execution_count": null,
   "id": "92ca2d4b",
   "metadata": {},
   "outputs": [],
   "source": [
    "# new column for total observation each year\n",
    "totalobs_year = pd.DataFrame(flightpath[['Year']].value_counts().reset_index(name='total'))\n",
    "newdf = pd.merge(freq_flights, totalobs_year, on = 'Year', how = \"left\")\n",
    "#finding proportion\n",
    "newdf['proportion'] = newdf['counts']/newdf['total']"
   ]
  },
  {
   "cell_type": "code",
   "execution_count": null,
   "id": "a50c6159",
   "metadata": {},
   "outputs": [],
   "source": [
    "# finding the list of top 30 flight paths\n",
    "# find frequency of each path\n",
    "sumflights = flightpath [['Origin', 'Dest']].value_counts().reset_index(name='counts')\n",
    "sumflights['Flight'] = sumflights['Origin'] +\"-\"+ sumflights['Dest']\n",
    "# find top 30\n",
    "toppaths = list((sumflights.nlargest(30, 'counts'))['Flight'])\n",
    "freqtoppaths = newdf.query('Flight in @toppaths')"
   ]
  },
  {
   "cell_type": "code",
   "execution_count": null,
   "id": "1bab782d",
   "metadata": {},
   "outputs": [],
   "source": [
    "# pivot table\n",
    "pivot = freqtoppaths.pivot_table(index=['Flight'], columns = 'Year', values = 'proportion')\n",
    "# graph\n",
    "from matplotlib import pyplot as plt\n",
    "import numpy as np\n",
    "plt.pcolor(pivot, cmap = 'Blues')\n",
    "plt.yticks(np.arange(len(pivot.index.values)),\n",
    "          labels = pivot.index.values)\n",
    "plt.xticks(np.arange(len(pivot.columns.values)),\n",
    "          labels = pivot.columns.values)\n",
    "plt.title(\"Frequency of Top 30 Domestic Flight Paths\")\n",
    "plt.colorbar()\n",
    "plt.show()"
   ]
  },
  {
   "cell_type": "markdown",
   "id": "e7516044",
   "metadata": {},
   "source": [
    "# cascading failure"
   ]
  },
  {
   "cell_type": "code",
   "execution_count": null,
   "id": "19abad3b",
   "metadata": {},
   "outputs": [],
   "source": [
    "# data\n",
    "del2007 = Y2007[(Y2007['ArrDelay'] > 15) | \n",
    "                       (Y2007['DepDelay'] > 15)]"
   ]
  },
  {
   "cell_type": "code",
   "execution_count": null,
   "id": "81f61fa5",
   "metadata": {},
   "outputs": [],
   "source": [
    "# random sample\n",
    "random_seed = 222\n",
    "del2007.sample(n=1, random_state = random_seed)"
   ]
  },
  {
   "cell_type": "code",
   "execution_count": null,
   "id": "0c75e7d1",
   "metadata": {},
   "outputs": [],
   "source": [
    "E1 = Y2007[(Y2007['FlightNum'] == 1442) & (Y2007['TailNum'] == 'N987DL')\n",
    "          & (Y2007['Month'] == 1) & (Y2007['DayofMonth'] == 28)]\n",
    "E1"
   ]
  },
  {
   "cell_type": "code",
   "execution_count": null,
   "id": "4260fc71",
   "metadata": {},
   "outputs": [],
   "source": [
    "act_arrtime = E1[['Dest', 'ArrTime']].rename(columns={'Dest' : 'Airport', \n",
    "                                               'ArrTime' : 'Time'})\n",
    "act_deptime = E1[['Origin', 'DepTime']].rename(columns={'Origin' : 'Airport',\n",
    "                                                 'DepTime' : 'Time'})\n",
    "act_time = (pd.concat([act_arrtime, act_deptime])).sort_values(by=['Time'])"
   ]
  },
  {
   "cell_type": "code",
   "execution_count": null,
   "id": "cb88cd4d",
   "metadata": {},
   "outputs": [],
   "source": [
    "est_arrtime = E1[['Dest', 'CRSArrTime']].rename(columns={'Dest' : 'Airport', \n",
    "                                               'CRSArrTime' : 'Time'})\n",
    "est_deptime = E1[['Origin', 'CRSDepTime']].rename(columns={'Origin' : 'Airport',\n",
    "                                                 'CRSDepTime' : 'Time'})\n",
    "est_time = (pd.concat([est_arrtime, est_deptime])).sort_values(by=['Time'])"
   ]
  },
  {
   "cell_type": "code",
   "execution_count": null,
   "id": "69e98d95",
   "metadata": {},
   "outputs": [],
   "source": [
    "#graph\n",
    "plt.plot(act_time['Time'], act_time['Airport'], linestyle = '-',\n",
    "         marker = 'o', color = 'red', label='Actual Time')\n",
    "plt.plot(est_time['Time'], est_time['Airport'], linestyle = '-',\n",
    "         marker = 'o', color = 'green', label='Estimated Time')\n",
    "plt.title('Example of a cascading failure')\n",
    "plt.legend()\n",
    "plt.show()"
   ]
  },
  {
   "cell_type": "markdown",
   "id": "068394af",
   "metadata": {},
   "source": [
    "# predicting delays"
   ]
  },
  {
   "cell_type": "code",
   "execution_count": 3,
   "id": "52196c8f",
   "metadata": {},
   "outputs": [],
   "source": [
    "import numpy as np # work with arrays\n",
    "Y2007.drop(Y2007.columns[[8,9,10,16,17,22]], \n",
    "              axis=1, inplace=True)\n",
    "Y2007 = Y2007.dropna()\n",
    "Y2007['Delay'] = np.where((Y2007['ArrDelay'] > 15) | (Y2007['DepDelay'] > 15), 1, 0)\n",
    "sample = Y2007.sample(n=10000, replace=False)"
   ]
  },
  {
   "cell_type": "code",
   "execution_count": 4,
   "id": "8a25b365",
   "metadata": {},
   "outputs": [
    {
     "name": "stdout",
     "output_type": "stream",
     "text": [
      "[ True  True  True  True  True  True  True  True  True  True  True  True\n",
      "  True  True  True  True  True  True  True  True  True  True  True]\n",
      "Index(['Year', 'Month', 'DayofMonth', 'DayOfWeek', 'DepTime', 'CRSDepTime',\n",
      "       'ArrTime', 'CRSArrTime', 'ActualElapsedTime', 'CRSElapsedTime',\n",
      "       'AirTime', 'ArrDelay', 'DepDelay', 'Distance', 'TaxiIn', 'TaxiOut',\n",
      "       'Cancelled', 'Diverted', 'CarrierDelay', 'WeatherDelay', 'NASDelay',\n",
      "       'SecurityDelay', 'LateAircraftDelay'],\n",
      "      dtype='object')\n",
      "Selected features are:  ['Year', 'Month', 'DayofMonth', 'DayOfWeek', 'DepTime', 'CRSDepTime', 'ArrTime', 'CRSArrTime', 'ActualElapsedTime', 'CRSElapsedTime', 'AirTime', 'ArrDelay', 'DepDelay', 'Distance', 'TaxiIn', 'TaxiOut', 'Cancelled', 'Diverted', 'CarrierDelay', 'WeatherDelay', 'NASDelay', 'SecurityDelay', 'LateAircraftDelay']\n"
     ]
    }
   ],
   "source": [
    "from sklearn.feature_selection import SelectKBest\n",
    "from sklearn.feature_selection import f_regression,chi2\n",
    "target = sample['Delay']\n",
    "features = sample.loc[:, sample.columns != 'Delay']\n",
    "\n",
    "selected_features = []\n",
    "selector = SelectKBest(f_regression, k = 'all')\n",
    "selector.fit_transform(features, target)\n",
    "\n",
    "supports = selector.get_support()\n",
    "\n",
    "print(supports)\n",
    "print(features.columns)\n",
    "\n",
    "for support, feature in zip(supports, features.columns):\n",
    "\n",
    "  if (support == True):\n",
    "    selected_features.append(feature)\n",
    "\n",
    "print('Selected features are: ', selected_features)"
   ]
  },
  {
   "cell_type": "code",
   "execution_count": 5,
   "id": "cb212fcf",
   "metadata": {},
   "outputs": [],
   "source": [
    "from sklearn.model_selection import train_test_split\n",
    "X_train, X_test, Y_train, Y_test = train_test_split(features, target, test_size = 0.3, random_state = 13)"
   ]
  },
  {
   "cell_type": "code",
   "execution_count": 6,
   "id": "7a75894f",
   "metadata": {},
   "outputs": [],
   "source": [
    "from sklearn.preprocessing import StandardScaler\n",
    "# Scale the features using StandardScaler\n",
    "scaler = StandardScaler()\n",
    "X_train = scaler.fit_transform(X_train)\n",
    "X_test = scaler.transform(X_test)"
   ]
  },
  {
   "cell_type": "code",
   "execution_count": 8,
   "id": "5389f20d",
   "metadata": {},
   "outputs": [
    {
     "name": "stdout",
     "output_type": "stream",
     "text": [
      "Accuracy of KNN is  90.63\n"
     ]
    }
   ],
   "source": [
    "#(1) K Nearest Neighbour\n",
    "from sklearn import metrics\n",
    "from sklearn.neighbors import KNeighborsClassifier\n",
    "KNN = KNeighborsClassifier(n_neighbors = 5)\n",
    "KNN.fit(X_train, Y_train)\n",
    "\n",
    "Y_pred = KNN.predict(X_test)\n",
    "\n",
    "accuracy_KNN = round(metrics.accuracy_score(Y_test, Y_pred)*100, 2)\n",
    "print('Accuracy of KNN is ', accuracy_KNN)"
   ]
  },
  {
   "cell_type": "code",
   "execution_count": null,
   "id": "13fd0960",
   "metadata": {},
   "outputs": [],
   "source": []
  }
 ],
 "metadata": {
  "kernelspec": {
   "display_name": "Python 3 (ipykernel)",
   "language": "python",
   "name": "python3"
  },
  "language_info": {
   "codemirror_mode": {
    "name": "ipython",
    "version": 3
   },
   "file_extension": ".py",
   "mimetype": "text/x-python",
   "name": "python",
   "nbconvert_exporter": "python",
   "pygments_lexer": "ipython3",
   "version": "3.11.4"
  }
 },
 "nbformat": 4,
 "nbformat_minor": 5
}
